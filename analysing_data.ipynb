{
 "cells": [
  {
   "cell_type": "code",
   "execution_count": 2,
   "id": "ad55ec18-f0df-4321-9d16-a7fc5d9ad352",
   "metadata": {},
   "outputs": [],
   "source": [
    "# Python includes inbuilt functions for creating, writing, and reading files.\n",
    "# The type of operations possible in the file are governedd by access modes.\n",
    "# Access modes specify the manner in which the file will be utilised once its opened\n"
   ]
  },
  {
   "cell_type": "code",
   "execution_count": 3,
   "id": "44f6cf1d-44f9-4791-88ba-9cae0d9c6440",
   "metadata": {},
   "outputs": [],
   "source": [
    "# File access Modes\n",
    "    # Read Only ('r')\n",
    "    # Read and Write ('r+')\n",
    "    # Write Only ('w')\n",
    "    # Write and Read ('w+')"
   ]
  },
  {
   "cell_type": "code",
   "execution_count": 5,
   "id": "9dc56f63-4721-4f15-9395-60c4382f8c00",
   "metadata": {},
   "outputs": [],
   "source": [
    "# creating a text file that allows read and write\n",
    "with open('days.txt', 'w+') as text_file:\n",
    "          days = 'Monday \\nTuesday \\nWednesday'\n",
    "          text_file.write(days)"
   ]
  },
  {
   "cell_type": "code",
   "execution_count": 7,
   "id": "c800f948-d5c7-4cc1-9b78-ba57000b44a8",
   "metadata": {},
   "outputs": [
    {
     "name": "stdout",
     "output_type": "stream",
     "text": [
      "Monday \n",
      "Tuesday \n",
      "Wednesday\n"
     ]
    }
   ],
   "source": [
    "# reading content from a file\n",
    "with open('days.txt', 'r') as text_file:\n",
    "    contents = text_file.read()\n",
    "    print(contents)"
   ]
  },
  {
   "cell_type": "code",
   "execution_count": 8,
   "id": "9837fb11-2d8c-4ec9-9319-0ef27852be93",
   "metadata": {},
   "outputs": [],
   "source": [
    "# Exercise:\n",
    "# create a to-do list that writes user input to a file. The program should:\n",
    "    # Ask the number of itmes to-do list should have\n",
    "    # Ask user to input new to-do item\n",
    "    # Read contents of existing to-do items\n",
    "    # Add new to-do item to the existing to-do items. Save the updated to-do items"
   ]
  },
  {
   "cell_type": "code",
   "execution_count": 20,
   "id": "93eac7f8-f19a-4fb5-8376-dd2c829a5547",
   "metadata": {},
   "outputs": [
    {
     "name": "stdin",
     "output_type": "stream",
     "text": [
      "How many tasks did you plan for today? 3\n",
      "Enter a to-do item:  quiet time\n",
      "Enter a to-do item:  gym\n",
      "Enter a to-do item:  cook\n"
     ]
    }
   ],
   "source": [
    "# ask user for number of to-dos\n",
    "no_of_tasks = int(input('How many tasks did you plan for today?'))\n",
    "file opened\n",
    "with open('todo.txt', 'w+') as todo_file:\n",
    "# for loop through each task \n",
    "    for task in range(no_of_tasks):\n",
    "    # for each number of to-dos, user needs to enter a task\n",
    "        new_item = input('Enter a to-do item: ')\n",
    "        todo_file.write(new_item + '\\n')"
   ]
  },
  {
   "cell_type": "code",
   "execution_count": null,
   "id": "733a7c91-b3f2-4bed-880e-6941df9ea078",
   "metadata": {},
   "outputs": [],
   "source": [
    "# Working with CSV files\n",
    "    # CSV = Comma Separated Values\n",
    "    # CSV file is a simple file format used to store tabular data, like spreadsheet or database\n",
    "    # Python provides an in-built module called csv to work with CSV files"
   ]
  },
  {
   "cell_type": "code",
   "execution_count": 3,
   "id": "2c0777c1-134b-4089-b9a7-b3a2d766d858",
   "metadata": {},
   "outputs": [],
   "source": [
    "# Use csv.writer class to insert data to the CVS file\n",
    "import csv\n",
    "\n",
    "#field names\n",
    "fields = ['Name', 'Work Experience', 'Age']\n",
    "\n",
    "# data rows of csv file\n",
    "rows = [['Rebecca', '8', '23'],\n",
    "        ['Lucy', '3', '20'],\n",
    "        ['John', '14', '31'],\n",
    "        ['Adam', '10', '45']\n",
    "       ]\n",
    "\n",
    "# name csv file\n",
    "filename = 'team.csv'\n",
    "\n",
    "# Writing to csv file\n",
    "with open(filename, 'w', newline='') as csvfile:\n",
    "\n",
    "    # create csv writer object\n",
    "    csvwriter = csv.writer(csvfile)\n",
    "    \n",
    "    # writing the fields\n",
    "    csvwriter.writerow(fields) # method used to write multiple rows at\n",
    "    \n",
    "    #writing data in rows\n",
    "    csvwriter.writerows(rows)"
   ]
  },
  {
   "cell_type": "code",
   "execution_count": 2,
   "id": "612ddfba-bee6-4a35-b42d-e6110964d412",
   "metadata": {},
   "outputs": [],
   "source": [
    "# using csv.DictWriter class - returns a writer object whiich maps dictionaries into output rows\n",
    "\n",
    "import csv\n",
    "\n",
    "# field names\n",
    "fields = ['Name', 'Work Experience', 'Age']\n",
    "\n",
    "# my data rows as dictionary objects\n",
    "mydict = [{'Name': 'Rebecca', 'Work Experience': '8', 'Age': '23'},\n",
    "          {'Name': 'Lucy', 'Work Experience': '3', 'Age': '20' },\n",
    "          {'Name': 'John', 'Work Experience': '14', 'Age': '31' },\n",
    "          {'Name': 'Adam', 'Work Experience': '10', 'Age': '45' }]\n",
    "\n",
    "# name of csv file\n",
    "filename = 'team2.csv'\n",
    "\n",
    "#writing to csv file\n",
    "with open(filename, 'w', newline='') as csvfile:\n",
    "    # create csv dict writer object\n",
    "    writer = csv.DictWriter(csvfile, fieldnames=fields)\n",
    "    \n",
    "    # writing headers (field names)\n",
    "    writer.writeheader()\n",
    "\n",
    "    # write data rows\n",
    "    writer.writerows(mydict)"
   ]
  },
  {
   "cell_type": "code",
   "execution_count": 37,
   "id": "ae492116-1294-451d-81f8-e57236caafe8",
   "metadata": {},
   "outputs": [],
   "source": [
    "# cvs.reader: \n",
    "    # first, the csv file is opened using open() method in 'r' mode\n",
    "    # this returns the file object then it is read by using the reader() method of CSV module\n",
    "    # returns the reader object that iterated throughout the lines in the specified CVS doc"
   ]
  },
  {
   "cell_type": "code",
   "execution_count": 42,
   "id": "591b4e51-ecc6-4802-b103-12e5b2b84af6",
   "metadata": {},
   "outputs": [
    {
     "name": "stdout",
     "output_type": "stream",
     "text": [
      "['Name', 'Work Experience', 'Age']\n",
      "['Rebecca', '8', '23']\n",
      "['Lucy', '3', '20']\n",
      "['John', '14', '31']\n",
      "['Adam', '10', '45']\n"
     ]
    }
   ],
   "source": [
    "import csv\n",
    "\n",
    "# opening the CVS file\n",
    "with open('team.csv', mode = 'r') as csv_file:\n",
    "    \n",
    "    # read the cvs file\n",
    "    spreadsheet = csv.reader(csv_file)\n",
    "    \n",
    "    # displaying contnets of cvs file\n",
    "    data = []\n",
    "    for row in spreadsheet:\n",
    "        data.append(row)\n",
    "        print(row)\n",
    "        \n",
    "# can do the same using csv.DictReader() function for dictionaries"
   ]
  },
  {
   "cell_type": "code",
   "execution_count": 43,
   "id": "bab786e5-ef55-473f-b77b-1c6f166d30d9",
   "metadata": {},
   "outputs": [],
   "source": [
    "# Reading CVS files with Pandas\n",
    "    # Pandas is an open-soirce Python library that provides high performnce data analysis tools and easy to use data structures\n",
    "    # Pandas library can be installed: pip install pandas"
   ]
  },
  {
   "cell_type": "code",
   "execution_count": 4,
   "id": "5f4865b9-59b3-4377-bf58-370e8fe46440",
   "metadata": {},
   "outputs": [
    {
     "name": "stdout",
     "output_type": "stream",
     "text": [
      "    age     sex   bmi  children smoker     region  expenses\n",
      "0    32    male  28.9         0     no  northwest   3866.86\n",
      "1    31  female  25.7         0     no  southeast   3756.62\n",
      "2    37  female  27.7         3     no  northwest   7281.51\n",
      "3    37    male  29.8         2     no  northeast   6406.41\n",
      "4    23    male  34.4         0     no  southwest   1826.84\n",
      "5    56  female  39.8         0     no  southeast  11090.72\n",
      "6    30  female  32.4         1     no  southwest   4149.74\n",
      "7    18    male  34.1         0     no  southeast   1137.01\n",
      "8    34  female  31.9         1    yes  northeast  37701.88\n",
      "9    23    male  17.4         1     no  northwest   2775.19\n",
      "10   18  female  26.3         0     no  northeast   2198.19\n",
      "11   62  female  33.0         3     no  northwest  15612.19\n",
      "12   26    male  20.8         0     no  southwest   2302.30\n",
      "13   24  female  26.6         0     no  northeast   3046.06\n",
      "14   41    male  21.8         1     no  southeast   6272.48\n",
      "15   37  female  30.8         2     no  southeast   6313.76\n",
      "16   58    male  37.0         2    yes  northwest  47496.49\n",
      "17   18    male  31.7         2    yes  southeast  34303.17\n",
      "18   25    male  33.7         4     no  southeast   4504.66\n",
      "19   20  female  22.4         0    yes  northwest  14711.74\n",
      "20   19  female  28.9         0     no  southwest   1743.21\n",
      "21   61  female  39.1         2     no  southwest  14235.07\n",
      "22   40    male  26.3         1     no  northwest   6389.38\n",
      "23   40  female  36.2         0     no  southeast   5920.10\n",
      "24   53  female  28.1         3     no  southwest  11741.73\n",
      "25   29  female  29.6         1     no  southeast   3947.41\n",
      "26   22    male  37.6         1    yes  southeast  37165.16\n",
      "27   53  female  24.8         1     no  northwest  10942.13\n",
      "28   59    male  29.8         3    yes  northeast  30184.94\n",
      "29   35    male  34.8         2     no  northwest   5729.01\n",
      "30   28  female  37.6         1     no  southeast   3766.88\n",
      "31   34  female  27.5         1     no  southwest   5003.85\n",
      "32   19  female  28.4         1     no  southwest   2331.52\n",
      "33   26    male  30.9         2     no  northwest   3877.30\n",
      "34   63    male  35.1         0    yes  southeast  47055.53\n",
      "35   54    male  33.6         1     no  northwest  10825.25\n",
      "36   52    male  32.2         3     no  northeast  11488.32\n",
      "37   44    male  31.4         1    yes  northeast  39556.49\n"
     ]
    }
   ],
   "source": [
    "import pandas\n",
    "df = pandas.read_csv('insurance_data.csv')\n",
    "print(df)\n",
    "# pandas knows that the first line of the CSV contains column names, and used the mautomatically"
   ]
  },
  {
   "cell_type": "code",
   "execution_count": 7,
   "id": "2278d1e9-79cf-460c-8f1e-916e36a9012f",
   "metadata": {},
   "outputs": [
    {
     "name": "stdout",
     "output_type": "stream",
     "text": [
      "<class 'pandas.core.series.Series'>\n"
     ]
    }
   ],
   "source": [
    "#can access specific columns\n",
    "df['region']"
   ]
  },
  {
   "cell_type": "code",
   "execution_count": 11,
   "id": "15fde763",
   "metadata": {},
   "outputs": [
    {
     "name": "stdout",
     "output_type": "stream",
     "text": [
      "<class 'numpy.float64'>\n"
     ]
    }
   ],
   "source": [
    "# can also check for the data type of each column\n",
    "print(type(df['bmi'][0]))"
   ]
  },
  {
   "cell_type": "code",
   "execution_count": 13,
   "id": "a3fdce31",
   "metadata": {},
   "outputs": [],
   "source": [
    "# PROCESSING DATA"
   ]
  },
  {
   "cell_type": "code",
   "execution_count": 14,
   "id": "efb9a83d",
   "metadata": {},
   "outputs": [
    {
     "data": {
      "text/plain": [
       "1137.01"
      ]
     },
     "execution_count": 14,
     "metadata": {},
     "output_type": "execute_result"
    }
   ],
   "source": [
    "# minimum expenses, can replace min with max to get max\n",
    "min(df['expenses'])"
   ]
  },
  {
   "cell_type": "code",
   "execution_count": 16,
   "id": "e688eed1",
   "metadata": {},
   "outputs": [
    {
     "data": {
      "text/plain": [
       "1    13\n",
       "0    12\n",
       "2     7\n",
       "3     5\n",
       "4     1\n",
       "Name: children, dtype: int64"
      ]
     },
     "execution_count": 16,
     "metadata": {},
     "output_type": "execute_result"
    }
   ],
   "source": [
    "# how many people have no children?\n",
    "df['children'].value_counts()"
   ]
  },
  {
   "cell_type": "code",
   "execution_count": 17,
   "id": "01443097",
   "metadata": {},
   "outputs": [
    {
     "data": {
      "text/html": [
       "<div>\n",
       "<style scoped>\n",
       "    .dataframe tbody tr th:only-of-type {\n",
       "        vertical-align: middle;\n",
       "    }\n",
       "\n",
       "    .dataframe tbody tr th {\n",
       "        vertical-align: top;\n",
       "    }\n",
       "\n",
       "    .dataframe thead th {\n",
       "        text-align: right;\n",
       "    }\n",
       "</style>\n",
       "<table border=\"1\" class=\"dataframe\">\n",
       "  <thead>\n",
       "    <tr style=\"text-align: right;\">\n",
       "      <th></th>\n",
       "      <th>age</th>\n",
       "      <th>bmi</th>\n",
       "      <th>children</th>\n",
       "      <th>expenses</th>\n",
       "    </tr>\n",
       "    <tr>\n",
       "      <th>region</th>\n",
       "      <th></th>\n",
       "      <th></th>\n",
       "      <th></th>\n",
       "      <th></th>\n",
       "    </tr>\n",
       "  </thead>\n",
       "  <tbody>\n",
       "    <tr>\n",
       "      <th>northeast</th>\n",
       "      <td>38.285714</td>\n",
       "      <td>29.714286</td>\n",
       "      <td>1.428571</td>\n",
       "      <td>18654.612857</td>\n",
       "    </tr>\n",
       "    <tr>\n",
       "      <th>northwest</th>\n",
       "      <td>40.000000</td>\n",
       "      <td>28.800000</td>\n",
       "      <td>1.454545</td>\n",
       "      <td>11773.368182</td>\n",
       "    </tr>\n",
       "    <tr>\n",
       "      <th>southeast</th>\n",
       "      <td>34.000000</td>\n",
       "      <td>32.808333</td>\n",
       "      <td>1.000000</td>\n",
       "      <td>13769.458333</td>\n",
       "    </tr>\n",
       "    <tr>\n",
       "      <th>southwest</th>\n",
       "      <td>33.125000</td>\n",
       "      <td>29.950000</td>\n",
       "      <td>1.000000</td>\n",
       "      <td>5416.782500</td>\n",
       "    </tr>\n",
       "  </tbody>\n",
       "</table>\n",
       "</div>"
      ],
      "text/plain": [
       "                 age        bmi  children      expenses\n",
       "region                                                 \n",
       "northeast  38.285714  29.714286  1.428571  18654.612857\n",
       "northwest  40.000000  28.800000  1.454545  11773.368182\n",
       "southeast  34.000000  32.808333  1.000000  13769.458333\n",
       "southwest  33.125000  29.950000  1.000000   5416.782500"
      ]
     },
     "execution_count": 17,
     "metadata": {},
     "output_type": "execute_result"
    }
   ],
   "source": [
    "# the mean of each column in each region (will only do this for the int/float columns)\n",
    "df.groupby(['region']).mean()"
   ]
  },
  {
   "cell_type": "code",
   "execution_count": 18,
   "id": "8cf17147",
   "metadata": {},
   "outputs": [
    {
     "data": {
      "text/html": [
       "<div>\n",
       "<style scoped>\n",
       "    .dataframe tbody tr th:only-of-type {\n",
       "        vertical-align: middle;\n",
       "    }\n",
       "\n",
       "    .dataframe tbody tr th {\n",
       "        vertical-align: top;\n",
       "    }\n",
       "\n",
       "    .dataframe thead th {\n",
       "        text-align: right;\n",
       "    }\n",
       "</style>\n",
       "<table border=\"1\" class=\"dataframe\">\n",
       "  <thead>\n",
       "    <tr style=\"text-align: right;\">\n",
       "      <th></th>\n",
       "      <th>age</th>\n",
       "      <th>bmi</th>\n",
       "      <th>expenses</th>\n",
       "    </tr>\n",
       "    <tr>\n",
       "      <th>children</th>\n",
       "      <th></th>\n",
       "      <th></th>\n",
       "      <th></th>\n",
       "    </tr>\n",
       "  </thead>\n",
       "  <tbody>\n",
       "    <tr>\n",
       "      <th>0</th>\n",
       "      <td>370</td>\n",
       "      <td>359.2</td>\n",
       "      <td>98655.18</td>\n",
       "    </tr>\n",
       "    <tr>\n",
       "      <th>1</th>\n",
       "      <td>451</td>\n",
       "      <td>380.3</td>\n",
       "      <td>170827.36</td>\n",
       "    </tr>\n",
       "    <tr>\n",
       "      <th>2</th>\n",
       "      <td>272</td>\n",
       "      <td>234.1</td>\n",
       "      <td>118361.21</td>\n",
       "    </tr>\n",
       "    <tr>\n",
       "      <th>3</th>\n",
       "      <td>263</td>\n",
       "      <td>150.8</td>\n",
       "      <td>76308.69</td>\n",
       "    </tr>\n",
       "    <tr>\n",
       "      <th>4</th>\n",
       "      <td>25</td>\n",
       "      <td>33.7</td>\n",
       "      <td>4504.66</td>\n",
       "    </tr>\n",
       "  </tbody>\n",
       "</table>\n",
       "</div>"
      ],
      "text/plain": [
       "          age    bmi   expenses\n",
       "children                       \n",
       "0         370  359.2   98655.18\n",
       "1         451  380.3  170827.36\n",
       "2         272  234.1  118361.21\n",
       "3         263  150.8   76308.69\n",
       "4          25   33.7    4504.66"
      ]
     },
     "execution_count": 18,
     "metadata": {},
     "output_type": "execute_result"
    }
   ],
   "source": [
    "df.groupby(['children']).sum()\n",
    "#df.groupby(by='children', dropna=False).sum()\n",
    "# dropna=False   ->  will porbably skew the data slightly, better to put true so whole row is not included in calcuations"
   ]
  },
  {
   "cell_type": "code",
   "execution_count": 19,
   "id": "f552ab91",
   "metadata": {},
   "outputs": [
    {
     "data": {
      "text/html": [
       "<div>\n",
       "<style scoped>\n",
       "    .dataframe tbody tr th:only-of-type {\n",
       "        vertical-align: middle;\n",
       "    }\n",
       "\n",
       "    .dataframe tbody tr th {\n",
       "        vertical-align: top;\n",
       "    }\n",
       "\n",
       "    .dataframe thead th {\n",
       "        text-align: right;\n",
       "    }\n",
       "</style>\n",
       "<table border=\"1\" class=\"dataframe\">\n",
       "  <thead>\n",
       "    <tr style=\"text-align: right;\">\n",
       "      <th></th>\n",
       "      <th></th>\n",
       "      <th>bmi</th>\n",
       "      <th>children</th>\n",
       "      <th>expenses</th>\n",
       "    </tr>\n",
       "    <tr>\n",
       "      <th>region</th>\n",
       "      <th>age</th>\n",
       "      <th></th>\n",
       "      <th></th>\n",
       "      <th></th>\n",
       "    </tr>\n",
       "  </thead>\n",
       "  <tbody>\n",
       "    <tr>\n",
       "      <th rowspan=\"7\" valign=\"top\">northeast</th>\n",
       "      <th>18</th>\n",
       "      <td>26.30</td>\n",
       "      <td>0.0</td>\n",
       "      <td>2198.190</td>\n",
       "    </tr>\n",
       "    <tr>\n",
       "      <th>24</th>\n",
       "      <td>26.60</td>\n",
       "      <td>0.0</td>\n",
       "      <td>3046.060</td>\n",
       "    </tr>\n",
       "    <tr>\n",
       "      <th>34</th>\n",
       "      <td>31.90</td>\n",
       "      <td>1.0</td>\n",
       "      <td>37701.880</td>\n",
       "    </tr>\n",
       "    <tr>\n",
       "      <th>37</th>\n",
       "      <td>29.80</td>\n",
       "      <td>2.0</td>\n",
       "      <td>6406.410</td>\n",
       "    </tr>\n",
       "    <tr>\n",
       "      <th>44</th>\n",
       "      <td>31.40</td>\n",
       "      <td>1.0</td>\n",
       "      <td>39556.490</td>\n",
       "    </tr>\n",
       "    <tr>\n",
       "      <th>52</th>\n",
       "      <td>32.20</td>\n",
       "      <td>3.0</td>\n",
       "      <td>11488.320</td>\n",
       "    </tr>\n",
       "    <tr>\n",
       "      <th>59</th>\n",
       "      <td>29.80</td>\n",
       "      <td>3.0</td>\n",
       "      <td>30184.940</td>\n",
       "    </tr>\n",
       "    <tr>\n",
       "      <th rowspan=\"11\" valign=\"top\">northwest</th>\n",
       "      <th>20</th>\n",
       "      <td>22.40</td>\n",
       "      <td>0.0</td>\n",
       "      <td>14711.740</td>\n",
       "    </tr>\n",
       "    <tr>\n",
       "      <th>23</th>\n",
       "      <td>17.40</td>\n",
       "      <td>1.0</td>\n",
       "      <td>2775.190</td>\n",
       "    </tr>\n",
       "    <tr>\n",
       "      <th>26</th>\n",
       "      <td>30.90</td>\n",
       "      <td>2.0</td>\n",
       "      <td>3877.300</td>\n",
       "    </tr>\n",
       "    <tr>\n",
       "      <th>32</th>\n",
       "      <td>28.90</td>\n",
       "      <td>0.0</td>\n",
       "      <td>3866.860</td>\n",
       "    </tr>\n",
       "    <tr>\n",
       "      <th>35</th>\n",
       "      <td>34.80</td>\n",
       "      <td>2.0</td>\n",
       "      <td>5729.010</td>\n",
       "    </tr>\n",
       "    <tr>\n",
       "      <th>37</th>\n",
       "      <td>27.70</td>\n",
       "      <td>3.0</td>\n",
       "      <td>7281.510</td>\n",
       "    </tr>\n",
       "    <tr>\n",
       "      <th>40</th>\n",
       "      <td>26.30</td>\n",
       "      <td>1.0</td>\n",
       "      <td>6389.380</td>\n",
       "    </tr>\n",
       "    <tr>\n",
       "      <th>53</th>\n",
       "      <td>24.80</td>\n",
       "      <td>1.0</td>\n",
       "      <td>10942.130</td>\n",
       "    </tr>\n",
       "    <tr>\n",
       "      <th>54</th>\n",
       "      <td>33.60</td>\n",
       "      <td>1.0</td>\n",
       "      <td>10825.250</td>\n",
       "    </tr>\n",
       "    <tr>\n",
       "      <th>58</th>\n",
       "      <td>37.00</td>\n",
       "      <td>2.0</td>\n",
       "      <td>47496.490</td>\n",
       "    </tr>\n",
       "    <tr>\n",
       "      <th>62</th>\n",
       "      <td>33.00</td>\n",
       "      <td>3.0</td>\n",
       "      <td>15612.190</td>\n",
       "    </tr>\n",
       "    <tr>\n",
       "      <th rowspan=\"11\" valign=\"top\">southeast</th>\n",
       "      <th>18</th>\n",
       "      <td>32.90</td>\n",
       "      <td>1.0</td>\n",
       "      <td>17720.090</td>\n",
       "    </tr>\n",
       "    <tr>\n",
       "      <th>22</th>\n",
       "      <td>37.60</td>\n",
       "      <td>1.0</td>\n",
       "      <td>37165.160</td>\n",
       "    </tr>\n",
       "    <tr>\n",
       "      <th>25</th>\n",
       "      <td>33.70</td>\n",
       "      <td>4.0</td>\n",
       "      <td>4504.660</td>\n",
       "    </tr>\n",
       "    <tr>\n",
       "      <th>28</th>\n",
       "      <td>37.60</td>\n",
       "      <td>1.0</td>\n",
       "      <td>3766.880</td>\n",
       "    </tr>\n",
       "    <tr>\n",
       "      <th>29</th>\n",
       "      <td>29.60</td>\n",
       "      <td>1.0</td>\n",
       "      <td>3947.410</td>\n",
       "    </tr>\n",
       "    <tr>\n",
       "      <th>31</th>\n",
       "      <td>25.70</td>\n",
       "      <td>0.0</td>\n",
       "      <td>3756.620</td>\n",
       "    </tr>\n",
       "    <tr>\n",
       "      <th>37</th>\n",
       "      <td>30.80</td>\n",
       "      <td>2.0</td>\n",
       "      <td>6313.760</td>\n",
       "    </tr>\n",
       "    <tr>\n",
       "      <th>40</th>\n",
       "      <td>36.20</td>\n",
       "      <td>0.0</td>\n",
       "      <td>5920.100</td>\n",
       "    </tr>\n",
       "    <tr>\n",
       "      <th>41</th>\n",
       "      <td>21.80</td>\n",
       "      <td>1.0</td>\n",
       "      <td>6272.480</td>\n",
       "    </tr>\n",
       "    <tr>\n",
       "      <th>56</th>\n",
       "      <td>39.80</td>\n",
       "      <td>0.0</td>\n",
       "      <td>11090.720</td>\n",
       "    </tr>\n",
       "    <tr>\n",
       "      <th>63</th>\n",
       "      <td>35.10</td>\n",
       "      <td>0.0</td>\n",
       "      <td>47055.530</td>\n",
       "    </tr>\n",
       "    <tr>\n",
       "      <th rowspan=\"7\" valign=\"top\">southwest</th>\n",
       "      <th>19</th>\n",
       "      <td>28.65</td>\n",
       "      <td>0.5</td>\n",
       "      <td>2037.365</td>\n",
       "    </tr>\n",
       "    <tr>\n",
       "      <th>23</th>\n",
       "      <td>34.40</td>\n",
       "      <td>0.0</td>\n",
       "      <td>1826.840</td>\n",
       "    </tr>\n",
       "    <tr>\n",
       "      <th>26</th>\n",
       "      <td>20.80</td>\n",
       "      <td>0.0</td>\n",
       "      <td>2302.300</td>\n",
       "    </tr>\n",
       "    <tr>\n",
       "      <th>30</th>\n",
       "      <td>32.40</td>\n",
       "      <td>1.0</td>\n",
       "      <td>4149.740</td>\n",
       "    </tr>\n",
       "    <tr>\n",
       "      <th>34</th>\n",
       "      <td>27.50</td>\n",
       "      <td>1.0</td>\n",
       "      <td>5003.850</td>\n",
       "    </tr>\n",
       "    <tr>\n",
       "      <th>53</th>\n",
       "      <td>28.10</td>\n",
       "      <td>3.0</td>\n",
       "      <td>11741.730</td>\n",
       "    </tr>\n",
       "    <tr>\n",
       "      <th>61</th>\n",
       "      <td>39.10</td>\n",
       "      <td>2.0</td>\n",
       "      <td>14235.070</td>\n",
       "    </tr>\n",
       "  </tbody>\n",
       "</table>\n",
       "</div>"
      ],
      "text/plain": [
       "                 bmi  children   expenses\n",
       "region    age                            \n",
       "northeast 18   26.30       0.0   2198.190\n",
       "          24   26.60       0.0   3046.060\n",
       "          34   31.90       1.0  37701.880\n",
       "          37   29.80       2.0   6406.410\n",
       "          44   31.40       1.0  39556.490\n",
       "          52   32.20       3.0  11488.320\n",
       "          59   29.80       3.0  30184.940\n",
       "northwest 20   22.40       0.0  14711.740\n",
       "          23   17.40       1.0   2775.190\n",
       "          26   30.90       2.0   3877.300\n",
       "          32   28.90       0.0   3866.860\n",
       "          35   34.80       2.0   5729.010\n",
       "          37   27.70       3.0   7281.510\n",
       "          40   26.30       1.0   6389.380\n",
       "          53   24.80       1.0  10942.130\n",
       "          54   33.60       1.0  10825.250\n",
       "          58   37.00       2.0  47496.490\n",
       "          62   33.00       3.0  15612.190\n",
       "southeast 18   32.90       1.0  17720.090\n",
       "          22   37.60       1.0  37165.160\n",
       "          25   33.70       4.0   4504.660\n",
       "          28   37.60       1.0   3766.880\n",
       "          29   29.60       1.0   3947.410\n",
       "          31   25.70       0.0   3756.620\n",
       "          37   30.80       2.0   6313.760\n",
       "          40   36.20       0.0   5920.100\n",
       "          41   21.80       1.0   6272.480\n",
       "          56   39.80       0.0  11090.720\n",
       "          63   35.10       0.0  47055.530\n",
       "southwest 19   28.65       0.5   2037.365\n",
       "          23   34.40       0.0   1826.840\n",
       "          26   20.80       0.0   2302.300\n",
       "          30   32.40       1.0   4149.740\n",
       "          34   27.50       1.0   5003.850\n",
       "          53   28.10       3.0  11741.730\n",
       "          61   39.10       2.0  14235.070"
      ]
     },
     "execution_count": 19,
     "metadata": {},
     "output_type": "execute_result"
    }
   ],
   "source": [
    "# can group by more than one column\n",
    "df.groupby(['region','age']).mean()"
   ]
  },
  {
   "cell_type": "code",
   "execution_count": 20,
   "id": "8ccb6c83",
   "metadata": {},
   "outputs": [],
   "source": [
    "import statistics"
   ]
  },
  {
   "cell_type": "code",
   "execution_count": 22,
   "id": "178a8e97",
   "metadata": {},
   "outputs": [
    {
     "name": "stdout",
     "output_type": "stream",
     "text": [
      "12333.081578947369\n"
     ]
    }
   ],
   "source": [
    "# calculate the average of'expenses'\n",
    "mean_expenses = statistics.mean(df['expenses'])\n",
    "print(mean_expenses)"
   ]
  },
  {
   "cell_type": "code",
   "execution_count": 23,
   "id": "0a558ddd",
   "metadata": {},
   "outputs": [
    {
     "name": "stdout",
     "output_type": "stream",
     "text": [
      "6293.12\n"
     ]
    }
   ],
   "source": [
    "# median\n",
    "median_expenses = statistics.median(df['expenses'])\n",
    "print(median_expenses)"
   ]
  },
  {
   "cell_type": "code",
   "execution_count": 24,
   "id": "2873693f",
   "metadata": {},
   "outputs": [
    {
     "name": "stdout",
     "output_type": "stream",
     "text": [
      "13652.613501076085\n"
     ]
    }
   ],
   "source": [
    "# standard deviation\n",
    "std__expenses = statistics.stdev(df['expenses'])\n",
    "print(std__expenses)"
   ]
  },
  {
   "cell_type": "code",
   "execution_count": 25,
   "id": "7fe8ade8",
   "metadata": {},
   "outputs": [
    {
     "name": "stdout",
     "output_type": "stream",
     "text": [
      "1.2105263157894737\n"
     ]
    }
   ],
   "source": [
    "no_children = statistics.mean(df['children'])\n",
    "print(no_children)"
   ]
  },
  {
   "cell_type": "code",
   "execution_count": null,
   "id": "81a1b34e",
   "metadata": {},
   "outputs": [],
   "source": []
  }
 ],
 "metadata": {
  "kernelspec": {
   "display_name": "Python 3 (ipykernel)",
   "language": "python",
   "name": "python3"
  },
  "language_info": {
   "codemirror_mode": {
    "name": "ipython",
    "version": 3
   },
   "file_extension": ".py",
   "mimetype": "text/x-python",
   "name": "python",
   "nbconvert_exporter": "python",
   "pygments_lexer": "ipython3",
   "version": "3.9.13"
  }
 },
 "nbformat": 4,
 "nbformat_minor": 5
}
